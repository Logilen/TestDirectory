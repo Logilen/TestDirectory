{
 "cells": [
  {
   "cell_type": "markdown",
   "metadata": {},
   "source": [
    "# Inlämning laboration 1\n",
    "\n",
    "Vissa av uppgifterna i denna inlämning är inspirerade från följande källor:\n",
    "\n",
    "- MyMachineLearningCourse in Python, licensierad  under GNU General Public License v3.0\n",
    "- Software Carpentry Copyright ©Software Carpentry, http://software-carpentry.org/, licensierad under Creative Commons Attribution license,https://creativecommons.org/licenses/by/4.0/\n",
    "- Geo Python (© Copyright 2017 Tenkanen & Whipp, University of Helsinki) licensierad under Creative Commons Attribution-ShareAlike 4.0 International licence https://creativecommons.org/licenses/by-sa/4.0/legalcode.\n",
    "\n",
    "\n",
    "Denna laboration ska genomföras i par, när ni arbetar med laborationen ska ni vara noga med att commita och pusha era ändringar till GitHub med jämna mellanrum. Detta är dels för att ni inte ska riskera att förlora något arbete men också för att det ska gå att följa ert arbete som lärare. När ni är färdiga med inlämningen ska ni göra en sista commit och sedan pusha den till er GitHub för assignment_1 som ni tilldelats via GitHub Classroom och dels spara ner deni HTML och lämna in i Studium. Endast en inlämning per grupp behövs. \n",
    "\n",
    "Det finns totalt 12 uppgifter och frågor, samtliga ska besvaras för godkänt. "
   ]
  },
  {
   "cell_type": "markdown",
   "metadata": {},
   "source": [
    "## Uppgift 1\n",
    "Skriv ut dagens datum i formatet YYYY-MM-DD"
   ]
  },
  {
   "cell_type": "code",
   "execution_count": 1,
   "metadata": {},
   "outputs": [
    {
     "name": "stdout",
     "output_type": "stream",
     "text": [
      "2020-09-07\n"
     ]
    }
   ],
   "source": [
    "import datetime\n",
    "today = datetime.date.today()\n",
    "print(today)"
   ]
  },
  {
   "cell_type": "markdown",
   "metadata": {},
   "source": [
    "## Uppgift 2  \n",
    "Definiera en funktion `max_of_three()` som tar tre olika nummer som argument och returnerar det största av dem, skriv ut resultatet."
   ]
  },
  {
   "cell_type": "code",
   "execution_count": 2,
   "metadata": {},
   "outputs": [],
   "source": [
    "Num1 = 4;Num2 = 8;Num3 = 10"
   ]
  },
  {
   "cell_type": "code",
   "execution_count": 3,
   "metadata": {},
   "outputs": [],
   "source": [
    "def max_of_three(x1,x2,x3):\n",
    "    return max(x1,x2,x3)"
   ]
  },
  {
   "cell_type": "code",
   "execution_count": 4,
   "metadata": {},
   "outputs": [
    {
     "data": {
      "text/plain": [
       "10"
      ]
     },
     "execution_count": 4,
     "metadata": {},
     "output_type": "execute_result"
    }
   ],
   "source": [
    "max_of_three(Num1,Num2,Num3)"
   ]
  },
  {
   "cell_type": "markdown",
   "metadata": {},
   "source": [
    "## Uppgift 3  \n",
    "Definiera en funktion `sum()` som summerar och en annan funktion `multiply()` som multiplicerar alla nummer i en lista, skriv ut resultatet \n",
    "\n",
    "**Ex:** `sum([1, 2, 3, 4])` ska returnera 10, och `multiply()([1, 2, 3, 4])` ska returnera 24."
   ]
  },
  {
   "cell_type": "code",
   "execution_count": 5,
   "metadata": {},
   "outputs": [],
   "source": [
    "lista = [1,2,3,4]"
   ]
  },
  {
   "cell_type": "code",
   "execution_count": 6,
   "metadata": {},
   "outputs": [],
   "source": [
    "def summation(xlist):\n",
    "    xsum = 0\n",
    "    for variable in xlist:\n",
    "        xsum = xsum + variable\n",
    "    return xsum"
   ]
  },
  {
   "cell_type": "code",
   "execution_count": 7,
   "metadata": {},
   "outputs": [
    {
     "data": {
      "text/plain": [
       "10"
      ]
     },
     "execution_count": 7,
     "metadata": {},
     "output_type": "execute_result"
    }
   ],
   "source": [
    "summation(lista)"
   ]
  },
  {
   "cell_type": "code",
   "execution_count": 8,
   "metadata": {},
   "outputs": [],
   "source": [
    "def multiplication(xlist):\n",
    "    xmul = 1\n",
    "    for variable in xlist:\n",
    "        xmul= xmul * variable\n",
    "    return xmul"
   ]
  },
  {
   "cell_type": "code",
   "execution_count": 9,
   "metadata": {},
   "outputs": [
    {
     "data": {
      "text/plain": [
       "24"
      ]
     },
     "execution_count": 9,
     "metadata": {},
     "output_type": "execute_result"
    }
   ],
   "source": [
    "multiplication(lista)"
   ]
  },
  {
   "cell_type": "markdown",
   "metadata": {},
   "source": [
    "## Uppgift 4\n",
    "\n",
    "**a.** Definiera en funktion som tar ett antal (varierande) kommaseparerade nummer som argument och genererar en lista och en tuple som innehåller dessa nummer.\n",
    "\n",
    "**b.** Vad är skillnaden mellan en lista och en tuple i Python?"
   ]
  },
  {
   "cell_type": "code",
   "execution_count": 10,
   "metadata": {},
   "outputs": [],
   "source": [
    "## a ) Not sure I understand this assignment, but I gave it a shot\n",
    "\n",
    "def GenerateListTuple(x1,x2,x3,x4):\n",
    "    yList = [x1,x2,x3,x4]\n",
    "    ytuple = (x1,x2,x3,x4)\n",
    "    return yList,ytuple\n"
   ]
  },
  {
   "cell_type": "code",
   "execution_count": 11,
   "metadata": {},
   "outputs": [],
   "source": [
    "MyList,MyTuple = GenerateListTuple(2.34,5.34,4.55,7.88)"
   ]
  },
  {
   "cell_type": "code",
   "execution_count": 12,
   "metadata": {},
   "outputs": [
    {
     "data": {
      "text/plain": [
       "[2.34, 5.34, 4.55, 7.88]"
      ]
     },
     "execution_count": 12,
     "metadata": {},
     "output_type": "execute_result"
    }
   ],
   "source": [
    "MyList"
   ]
  },
  {
   "cell_type": "code",
   "execution_count": 13,
   "metadata": {},
   "outputs": [
    {
     "data": {
      "text/plain": [
       "(2.34, 5.34, 4.55, 7.88)"
      ]
     },
     "execution_count": 13,
     "metadata": {},
     "output_type": "execute_result"
    }
   ],
   "source": [
    "MyTuple"
   ]
  },
  {
   "cell_type": "code",
   "execution_count": 14,
   "metadata": {},
   "outputs": [],
   "source": [
    "## b ) "
   ]
  },
  {
   "cell_type": "markdown",
   "metadata": {},
   "source": [
    "A tuple is a collection of objects which ordered and immutable. Tuples are sequences, just like lists. The differences between tuples and lists are, the tuples cannot be changed unlike lists and tuples use parentheses, whereas lists use square brackets. (https://www.tutorialspoint.com/python/python_tuples.htm)"
   ]
  },
  {
   "cell_type": "markdown",
   "metadata": {},
   "source": [
    "## Uppgift 5 \n",
    "Skapa två olika tal som integers. Kalkylera produkten av dessa, om produkten är **högre** än 200, returnera då summan av de två talen,skriv ut resultatet. \n",
    "\n",
    "**Ex**\n",
    "~~~\n",
    "INPUT:  \n",
    "`number1 = 10`  \n",
    "`number2 = 20`\n",
    "\n",
    "RESULT:  \n",
    "The result is 200.\n",
    "~~~\n"
   ]
  },
  {
   "cell_type": "code",
   "execution_count": 15,
   "metadata": {},
   "outputs": [],
   "source": [
    "N1 = 6;N1 = int(N1)"
   ]
  },
  {
   "cell_type": "code",
   "execution_count": 16,
   "metadata": {},
   "outputs": [],
   "source": [
    "N2 = 5;N2 = int(N2)"
   ]
  },
  {
   "cell_type": "code",
   "execution_count": 17,
   "metadata": {},
   "outputs": [
    {
     "name": "stdout",
     "output_type": "stream",
     "text": [
      "30\n"
     ]
    }
   ],
   "source": [
    "if N1*N2 > 200:\n",
    "    Res = N1+N2\n",
    "    print(Res)\n",
    "else:\n",
    "    Res = N1*N2\n",
    "    print(Res)"
   ]
  },
  {
   "cell_type": "markdown",
   "metadata": {},
   "source": [
    "## Uppgift 6 \n",
    "**a.** Givet en sträng, skriv ut de bokstäver som finns på alla ojämna indexplatser. \n",
    "\n",
    "**b.** Utveckla ovanstående funktion så att mellanslag inte skrivs ut utan endast index med bokstäver. "
   ]
  },
  {
   "cell_type": "code",
   "execution_count": 18,
   "metadata": {},
   "outputs": [],
   "source": [
    "StringExample = 'Infinite impossibility drive'"
   ]
  },
  {
   "cell_type": "code",
   "execution_count": 19,
   "metadata": {},
   "outputs": [
    {
     "name": "stdout",
     "output_type": "stream",
     "text": [
      "Ifnt mosblt rv\n"
     ]
    }
   ],
   "source": [
    "EveryOddLetter = print(StringExample[::2])"
   ]
  },
  {
   "cell_type": "code",
   "execution_count": 20,
   "metadata": {},
   "outputs": [],
   "source": [
    "StringExampleNoSpace = StringExample.replace(\" \", \"\")"
   ]
  },
  {
   "cell_type": "code",
   "execution_count": 21,
   "metadata": {},
   "outputs": [
    {
     "data": {
      "text/plain": [
       "'Infiniteimpossibilitydrive'"
      ]
     },
     "execution_count": 21,
     "metadata": {},
     "output_type": "execute_result"
    }
   ],
   "source": [
    "StringExampleNoSpace"
   ]
  },
  {
   "cell_type": "code",
   "execution_count": 22,
   "metadata": {},
   "outputs": [],
   "source": [
    "EveryOddLetterNoSpace = StringExampleNoSpace[::2]"
   ]
  },
  {
   "cell_type": "code",
   "execution_count": 23,
   "metadata": {},
   "outputs": [
    {
     "data": {
      "text/plain": [
       "'Ifntipsiiiyrv'"
      ]
     },
     "execution_count": 23,
     "metadata": {},
     "output_type": "execute_result"
    }
   ],
   "source": [
    "EveryOddLetterNoSpace"
   ]
  },
  {
   "cell_type": "markdown",
   "metadata": {},
   "source": [
    "## Uppgift 7\n",
    "**a** Skapa en sträng som innehåller 4 olika ord, separerade med ; Använd den inbyggda funktionen `split()`och skriv ut de fyra orden på varsin rad.\n",
    "\n",
    "**b** Varför var denna övning viktig inför framtida analys av strukturerad data?\n"
   ]
  },
  {
   "cell_type": "code",
   "execution_count": 24,
   "metadata": {},
   "outputs": [],
   "source": [
    "StringExample2 = 'The;total;perspective;vortex'"
   ]
  },
  {
   "cell_type": "code",
   "execution_count": 25,
   "metadata": {},
   "outputs": [],
   "source": [
    "Splitted = StringExample2.split(';')"
   ]
  },
  {
   "cell_type": "code",
   "execution_count": 26,
   "metadata": {},
   "outputs": [
    {
     "name": "stdout",
     "output_type": "stream",
     "text": [
      "The\n",
      "total\n",
      "perspective\n",
      "vortex\n"
     ]
    }
   ],
   "source": [
    "print(Splitted[0]); print(Splitted[1]); print(Splitted[2]); print(Splitted[3])"
   ]
  },
  {
   "cell_type": "markdown",
   "metadata": {},
   "source": [
    "b) \n",
    "\n",
    "Data often comes in text format where \";\" is used as separator. "
   ]
  },
  {
   "cell_type": "markdown",
   "metadata": {},
   "source": [
    "## Uppgift 8"
   ]
  },
  {
   "cell_type": "markdown",
   "metadata": {},
   "source": [
    "Beräkna inkomstskatten för några olika personer med olika inkomst, använd nedanstående tabell för att se reglerna för inkomstskatt för olika inkomster. Skriv ut varje persons inkomst och skatt på en egen rad. \n",
    "\n",
    "| Inkomst  | Skatt (%) |\n",
    "|----------|-----------|\n",
    "| <=10 000 |     0     |\n",
    "| <=30 000 |     20    |\n",
    "| > 30 000 |     40    |\n",
    "\n",
    "\n",
    "**Ex**\n",
    "\n",
    "~~~\n",
    "En person med en inkomst på 35000 ska betala 10 000*0 + 20 000*0,2 + 5000*0,4 = 6000 kr i skatt.\n",
    "~~~"
   ]
  },
  {
   "cell_type": "code",
   "execution_count": 27,
   "metadata": {},
   "outputs": [],
   "source": [
    "import pandas as pd"
   ]
  },
  {
   "cell_type": "code",
   "execution_count": 28,
   "metadata": {},
   "outputs": [],
   "source": [
    "## Defining example data\n",
    "IncomeData = [['Tom', 8000], ['Nick', 35000], ['RichieRich', 1E12]]"
   ]
  },
  {
   "cell_type": "code",
   "execution_count": 29,
   "metadata": {},
   "outputs": [],
   "source": [
    "# Create pandas DataFrame \n",
    "df = pd.DataFrame(IncomeData, columns = ['Name', 'Income'])"
   ]
  },
  {
   "cell_type": "code",
   "execution_count": 30,
   "metadata": {},
   "outputs": [],
   "source": [
    "## Defining function to calculate tax based on name\n",
    "\n",
    "def TaxFromIncome(df,inputname):\n",
    "    Income = df.loc[df['Name'] == inputname, 'Income']\n",
    "    if ( Income <= 10000 ).bool():\n",
    "        Tax = Income*0\n",
    "    elif ( Income <= 30000 ).bool():\n",
    "        Tax = (Income - 10000)*0.2\n",
    "    else:\n",
    "        Tax = (20000)*0.2 + (Income - 30000)*0.4\n",
    "    return Tax"
   ]
  },
  {
   "cell_type": "code",
   "execution_count": 31,
   "metadata": {},
   "outputs": [
    {
     "data": {
      "text/plain": [
       "[0.0]"
      ]
     },
     "execution_count": 31,
     "metadata": {},
     "output_type": "execute_result"
    }
   ],
   "source": [
    "TaxFromIncome(df,'Tom').values.tolist()"
   ]
  },
  {
   "cell_type": "code",
   "execution_count": 32,
   "metadata": {},
   "outputs": [
    {
     "data": {
      "text/plain": [
       "[6000.0]"
      ]
     },
     "execution_count": 32,
     "metadata": {},
     "output_type": "execute_result"
    }
   ],
   "source": [
    "TaxFromIncome(df,'Nick').values.tolist()"
   ]
  },
  {
   "cell_type": "code",
   "execution_count": 33,
   "metadata": {},
   "outputs": [
    {
     "data": {
      "text/plain": [
       "[399999992000.0]"
      ]
     },
     "execution_count": 33,
     "metadata": {},
     "output_type": "execute_result"
    }
   ],
   "source": [
    "TaxFromIncome(df,'RichieRich').values.tolist()"
   ]
  },
  {
   "cell_type": "markdown",
   "metadata": {},
   "source": [
    "## Uppgift 9\n",
    "\n",
    "**För att genomföra denna uppgift kan fler än ett kodblock behöva skapas.**\n",
    "\n",
    "Skapa en strängvariabel som du döper till name och spara ditt förnamn och efternamn i en enda sträng i denna variabel.\n",
    "\n",
    "Skapa en integervariabel som du döper till iceCreamRating och använd denna för att spara ettnummer mellan 0 till 10 som speglar hur mycket du tycker om glass.\n",
    "\n",
    "Koda sedan i Python något som ger ungefär denna output:\n",
    "\n",
    "Mitt namn är Elin Uppström och jag ger glassätning 7 poäng av 10 möjliga!\n",
    "\n",
    "**OBS!** Elin Uppström ska såklart bestå av innehållet i variabeln name och poängen ska komma från variabeln iceCreamRating"
   ]
  },
  {
   "cell_type": "code",
   "execution_count": 34,
   "metadata": {},
   "outputs": [],
   "source": [
    "name = 'Laurids Andersen'"
   ]
  },
  {
   "cell_type": "code",
   "execution_count": 35,
   "metadata": {},
   "outputs": [],
   "source": [
    "iceCreamRating = 10"
   ]
  },
  {
   "cell_type": "code",
   "execution_count": 36,
   "metadata": {},
   "outputs": [
    {
     "name": "stdout",
     "output_type": "stream",
     "text": [
      "Mitt namn är Laurids Andersen och jag ger glassätning 10 poäng av 10 möjliga!\n"
     ]
    }
   ],
   "source": [
    "print('Mitt namn är ' + name + ' och jag ger glassätning ' + str(iceCreamRating) + ' poäng av 10 möjliga!')"
   ]
  },
  {
   "cell_type": "markdown",
   "metadata": {},
   "source": [
    "## Uppgift 10\n",
    "\n",
    "a. För att konvertera sekunder till sekunder, minuter och timmar kan följande metod användas med \"brute force\". \n",
    "~~~\n",
    "def convert(seconds): \n",
    "    seconds = seconds % (24 * 3600) \n",
    "    hour = seconds // 3600\n",
    "    seconds %= 3600\n",
    "    minutes = seconds // 60\n",
    "    seconds %= 60\n",
    "      \n",
    "    return \"%d:%02d:%02d\" % (hour, minutes, seconds) \n",
    "      \n",
    "# Driver program \n",
    "n = 12345\n",
    "print(convert(n)) \n",
    "\n",
    "~~~\n",
    "\n",
    "Istället för brute force, skapa två olika förslag på hur samma sak kan åstadkommas med hjälp av Pythons inbyggda bibliotek som ni hittar [här](https://docs.python.org/3/library/index.html).\n"
   ]
  },
  {
   "cell_type": "markdown",
   "metadata": {},
   "source": [
    "\n",
    "1 ) Would probably be my preffered way of doing it"
   ]
  },
  {
   "cell_type": "code",
   "execution_count": 37,
   "metadata": {},
   "outputs": [],
   "source": [
    "import datetime"
   ]
  },
  {
   "cell_type": "code",
   "execution_count": 38,
   "metadata": {},
   "outputs": [],
   "source": [
    "AmountOfSeconds = 12345"
   ]
  },
  {
   "cell_type": "code",
   "execution_count": 39,
   "metadata": {},
   "outputs": [
    {
     "data": {
      "text/plain": [
       "'3:25:45'"
      ]
     },
     "execution_count": 39,
     "metadata": {},
     "output_type": "execute_result"
    }
   ],
   "source": [
    "str(datetime.timedelta(seconds=AmountOfSeconds))"
   ]
  },
  {
   "cell_type": "markdown",
   "metadata": {},
   "source": [
    "2 )"
   ]
  },
  {
   "cell_type": "code",
   "execution_count": 40,
   "metadata": {},
   "outputs": [],
   "source": [
    "from time import strftime\n",
    "from time import gmtime"
   ]
  },
  {
   "cell_type": "code",
   "execution_count": 41,
   "metadata": {},
   "outputs": [
    {
     "data": {
      "text/plain": [
       "'03:25:45'"
      ]
     },
     "execution_count": 41,
     "metadata": {},
     "output_type": "execute_result"
    }
   ],
   "source": [
    "strftime(\"%H:%M:%S\", gmtime(AmountOfSeconds))"
   ]
  },
  {
   "cell_type": "markdown",
   "metadata": {},
   "source": [
    "## Uppgift 11\n",
    "\n",
    "I filen som heter smhi_vaderdata.csv finns ett helt dyngs väderdata från Visby flygplats, nämligen från den 28 augusti 11.00 till den 29 augusti 11.00. I denna övning ska ni använda denna data och utföra ett antal uppgifter. För att importera den data som finns används ett externt bibliotek som heter pandas som vi kommer använda oss mycket av framöver. Denna gång får ni dock filen importerad åt er samt de olika temperaturerna inlagda i en lista. När ni sedan skriver er egen kod gör ni detta i ett nytt kodblock. \n",
    "\n",
    "a. Skapa tomma listor för olika typer av temperatur, exempelvis varmt, ljummet, kallt etc. Minst tre olika typer av temperaturer ska ingå. \n",
    "\n",
    "b. Iterera över listan och sortera in de olika temperaturerna i de skapade temperaturtyperna, \n",
    "\n",
    "**Ex** \n",
    "~~~\n",
    "temperatur över 18 grader ska till listan med varma temperaturer\n",
    "~~~\n",
    "\n",
    "c. Ange hur många timmar under dygnet de olika temperaturtyperna förekommit. \n",
    "\n",
    "**Ex**\n",
    "\n",
    "~~~\n",
    "Det var varmt fem timmar under dygnet.\n",
    "Det var ljummet åtta timmar under dygnet.\n",
    "Det var inte kallt någon timme under dygnet.\n",
    "~~~\n",
    "\n",
    "d. Förklara vilka argument `read_csv` kan ta och vad de två argument som skickas med i nedanstående kod betyder. \n",
    "\n",
    "e. Vad är den första kolumnen i den dataframe som skapas i koden nedan (ni måste köra koden för att resultatet ska synas.)"
   ]
  },
  {
   "cell_type": "code",
   "execution_count": 42,
   "metadata": {},
   "outputs": [],
   "source": [
    "#importerar pandas och hämtar data från csv-filen till en dataFrame\n",
    "import pandas as pd\n",
    "temperature_df= pd.read_csv(\"Data/smhi_vaderdata.csv\", sep=';');"
   ]
  },
  {
   "cell_type": "code",
   "execution_count": 43,
   "metadata": {},
   "outputs": [],
   "source": [
    "#skapar en lista med enbart temperatur\n",
    "temperature = temperature_df['Lufttemperatur']"
   ]
  },
  {
   "cell_type": "code",
   "execution_count": 44,
   "metadata": {},
   "outputs": [],
   "source": [
    "\n",
    "## a + b + c) Not sure if this is exactly what you asked for? "
   ]
  },
  {
   "cell_type": "code",
   "execution_count": 45,
   "metadata": {},
   "outputs": [],
   "source": [
    "Ljummet = temperature_df[(temperature_df.Lufttemperatur >= 15) & (temperature_df.Lufttemperatur <= 17)]"
   ]
  },
  {
   "cell_type": "code",
   "execution_count": 46,
   "metadata": {},
   "outputs": [],
   "source": [
    "Cold = temperature_df[temperature_df.Lufttemperatur < 15]"
   ]
  },
  {
   "cell_type": "code",
   "execution_count": 47,
   "metadata": {},
   "outputs": [],
   "source": [
    "Hot = temperature_df[temperature_df.Lufttemperatur > 17]"
   ]
  },
  {
   "cell_type": "code",
   "execution_count": 48,
   "metadata": {},
   "outputs": [
    {
     "name": "stdout",
     "output_type": "stream",
     "text": [
      "Det var varmt 5 timmar.\n"
     ]
    }
   ],
   "source": [
    "print('Det var varmt ' + str(Hot['Lufttemperatur'].size) + ' timmar.')"
   ]
  },
  {
   "cell_type": "code",
   "execution_count": 49,
   "metadata": {},
   "outputs": [
    {
     "name": "stdout",
     "output_type": "stream",
     "text": [
      "Det var ljummet 6 timmar.\n"
     ]
    }
   ],
   "source": [
    "print('Det var ljummet ' + str(Ljummet['Lufttemperatur'].size) + ' timmar.')"
   ]
  },
  {
   "cell_type": "code",
   "execution_count": 50,
   "metadata": {},
   "outputs": [
    {
     "name": "stdout",
     "output_type": "stream",
     "text": [
      "Det var kallt 14 timmar.\n"
     ]
    }
   ],
   "source": [
    "print('Det var kallt ' + str(Cold['Lufttemperatur'].size) + ' timmar.')"
   ]
  },
  {
   "cell_type": "markdown",
   "metadata": {},
   "source": [
    "\n",
    "d) The arguments that read_csv can take are described here: https://pandas.pydata.org/pandas-docs/stable/reference/api/pandas.read_csv.html. \n",
    "The ones used here describes the path to the the csv file and that ; is used as separator. \n",
    "\n",
    "e) The first column is the row index values. It can be used to find data in specific rows or used to iterate through the datamatrix. But it also work like an address to the original datamatrix. So if a new matrix is created like above in e.g. the Cold data matrix the original index values are kept unless you actively reset them.  "
   ]
  },
  {
   "cell_type": "markdown",
   "metadata": {},
   "source": [
    "## Uppgift 12\n",
    "\n",
    "Restaurang varvet har börjat använda swish i hög utsträckning, dock har de ett problem. Kassans dagliga sammanställning stämmer inte med summan som levereras från banken på hur mycket pengar som inkommit. Anledningen är att banken inte sammanställer swishinkomster per dag. Ägaren behöver därför göra detta manuellt vilket tar mycket tid. \n",
    "\n",
    "Uppgiften är därmed att beräkna en totalsumma av swishinbetalningar per dag och leverera denna sammanställning i en ny fil som ni sedan kan skicka till ägaren för att underlätta dennes arbete. Ni läser in filen på samma sätt som i föregående övning, även denna fil har ; som separator. Som hjälp har också de bibliotek ni behöver för att genomföra uppgiften importerats. Skapa lämligt antal nya kodblock för att utföra uppgiften. \n",
    "\n",
    "\n"
   ]
  },
  {
   "cell_type": "code",
   "execution_count": 51,
   "metadata": {},
   "outputs": [],
   "source": [
    "#Importerar nädvändiga bibliotek\n",
    "import pandas as pd\n",
    "import dateutil\n",
    "import csv as csv"
   ]
  },
  {
   "cell_type": "code",
   "execution_count": 52,
   "metadata": {},
   "outputs": [],
   "source": [
    "## Converting the string values in Belopp to numerics\n",
    "\n",
    "AccountOccur = pd.read_csv(\"Data/Kontohandelser_swish.csv\", sep=';')"
   ]
  },
  {
   "cell_type": "code",
   "execution_count": 53,
   "metadata": {},
   "outputs": [],
   "source": [
    "AccountOccur['Belopp'] = AccountOccur['Belopp'].str.replace(',','.')"
   ]
  },
  {
   "cell_type": "code",
   "execution_count": 54,
   "metadata": {},
   "outputs": [],
   "source": [
    "AccountOccur['Belopp'] = AccountOccur['Belopp'].astype(float)"
   ]
  },
  {
   "cell_type": "code",
   "execution_count": 55,
   "metadata": {},
   "outputs": [],
   "source": [
    "## Finding the uniques dates in data\n",
    "\n",
    "UniqueDateVal = AccountOccur['Bokföringsdatum'].unique()"
   ]
  },
  {
   "cell_type": "code",
   "execution_count": 56,
   "metadata": {},
   "outputs": [],
   "source": [
    "## Iterating over the unique dates and calculating the sum of the days\n",
    "\n",
    "TotalVec = []\n",
    "for rows in UniqueDateVal:\n",
    "    UniqueDateData = AccountOccur[AccountOccur['Bokföringsdatum'] == rows]\n",
    "    TotalDay = UniqueDateData['Belopp'].sum()\n",
    "    TotalVec.append(TotalDay)"
   ]
  },
  {
   "cell_type": "code",
   "execution_count": 57,
   "metadata": {},
   "outputs": [],
   "source": [
    "## Defining array with the unique dates and total amount of the days\n",
    "TotalArray = [UniqueDateVal, TotalVec]"
   ]
  },
  {
   "cell_type": "code",
   "execution_count": 58,
   "metadata": {},
   "outputs": [],
   "source": [
    "## Writing pandas dataframe for export\n",
    "df = pd.DataFrame(TotalArray)"
   ]
  },
  {
   "cell_type": "code",
   "execution_count": 59,
   "metadata": {},
   "outputs": [],
   "source": [
    "## transposing to get rows to columns\n",
    "df = df.T"
   ]
  },
  {
   "cell_type": "code",
   "execution_count": 60,
   "metadata": {},
   "outputs": [],
   "source": [
    "## Defining header\n",
    "df.columns = ['Date', 'Total from swish [SEK]']"
   ]
  },
  {
   "cell_type": "code",
   "execution_count": 61,
   "metadata": {},
   "outputs": [
    {
     "data": {
      "text/html": [
       "<div>\n",
       "<style scoped>\n",
       "    .dataframe tbody tr th:only-of-type {\n",
       "        vertical-align: middle;\n",
       "    }\n",
       "\n",
       "    .dataframe tbody tr th {\n",
       "        vertical-align: top;\n",
       "    }\n",
       "\n",
       "    .dataframe thead th {\n",
       "        text-align: right;\n",
       "    }\n",
       "</style>\n",
       "<table border=\"1\" class=\"dataframe\">\n",
       "  <thead>\n",
       "    <tr style=\"text-align: right;\">\n",
       "      <th></th>\n",
       "      <th>Date</th>\n",
       "      <th>Total from swish [SEK]</th>\n",
       "    </tr>\n",
       "  </thead>\n",
       "  <tbody>\n",
       "    <tr>\n",
       "      <th>0</th>\n",
       "      <td>2020-06-26</td>\n",
       "      <td>15450</td>\n",
       "    </tr>\n",
       "    <tr>\n",
       "      <th>1</th>\n",
       "      <td>2020-06-25</td>\n",
       "      <td>11175</td>\n",
       "    </tr>\n",
       "    <tr>\n",
       "      <th>2</th>\n",
       "      <td>2020-06-24</td>\n",
       "      <td>1590</td>\n",
       "    </tr>\n",
       "    <tr>\n",
       "      <th>3</th>\n",
       "      <td>2020-06-22</td>\n",
       "      <td>170395</td>\n",
       "    </tr>\n",
       "  </tbody>\n",
       "</table>\n",
       "</div>"
      ],
      "text/plain": [
       "         Date Total from swish [SEK]\n",
       "0  2020-06-26                  15450\n",
       "1  2020-06-25                  11175\n",
       "2  2020-06-24                   1590\n",
       "3  2020-06-22                 170395"
      ]
     },
     "execution_count": 61,
     "metadata": {},
     "output_type": "execute_result"
    }
   ],
   "source": [
    "df"
   ]
  },
  {
   "cell_type": "code",
   "execution_count": 62,
   "metadata": {},
   "outputs": [],
   "source": [
    "df.to_csv(r'TotalFromSwish.csv',sep=';', index = False)"
   ]
  },
  {
   "cell_type": "code",
   "execution_count": null,
   "metadata": {},
   "outputs": [],
   "source": []
  }
 ],
 "metadata": {
  "kernelspec": {
   "display_name": "Python 3",
   "language": "python",
   "name": "python3"
  },
  "language_info": {
   "codemirror_mode": {
    "name": "ipython",
    "version": 3
   },
   "file_extension": ".py",
   "mimetype": "text/x-python",
   "name": "python",
   "nbconvert_exporter": "python",
   "pygments_lexer": "ipython3",
   "version": "3.8.3"
  }
 },
 "nbformat": 4,
 "nbformat_minor": 4
}
